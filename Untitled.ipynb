{
 "cells": [
  {
   "cell_type": "code",
   "execution_count": 4,
   "metadata": {},
   "outputs": [],
   "source": [
    "import requests\n",
    "from bs4 import BeautifulSoup\n",
    "from tqdm import tqdm\n",
    "import pandas as pd\n",
    "import math\n",
    "import operator\n",
    "import matplotlib"
   ]
  },
  {
   "cell_type": "code",
   "execution_count": 5,
   "metadata": {},
   "outputs": [
    {
     "name": "stdout",
     "output_type": "stream",
     "text": [
      "User-agent: Sogou\n",
      "User-agent: Baiduspider\n",
      "User-agent: YoudaoBot\n",
      "Disallow: /\n",
      "\n",
      "Host: www.czc.cz\n",
      "\n",
      "User-Agent: *\n",
      "Disallow: /login\n",
      "Disallow: /*/login\n",
      "Disallow: /kosik/\n",
      "Disallow: /dokoncit-registraci\n",
      "Disallow: /email/*\n",
      "Disallow: /change-password\n",
      "Disallow: /zmenit-heslo/\n",
      "Disallow: /*/nova$\n",
      "Disallow: /*/novy$\n",
      "Disallow: /*/priloha\n",
      "Disallow: /*/upload-image\n",
      "Disallow: /*?q-count=\n",
      "Disallow: /*&q-count=\n",
      "Disallow: /*?q-order=\n",
      "Disallow: /*&q-order=\n",
      "Disallow: /*?q-direction=\n",
      "Disallow: /*&q-direction=\n",
      "Disallow: /*?position=\n",
      "Disallow: /*&position=\n",
      "Disallow: /*?q-c*=\n",
      "Disallow: /*&q-c*=\n",
      "Disallow: /*?related=\n",
      "Disallow: /*&related=\n",
      "Disallow: /*.jsm\n",
      "Disallow: /letaky\n",
      "Disallow: /support\n",
      "Disallow: /czc/products.nsf/\n",
      "Disallow: /czc/media.nsf/\n",
      "Disallow: /art_list.jsp\n",
      "Disallow: /captcha.jsp\n",
      "Disallow: /MAIN.aspx\n",
      "Disallow: /Main.aspx\n",
      "Disallow: /DEFAULT.aspx\n",
      "\n",
      "Disallow: /*/kontakty\n",
      "Disallow: /*/soukromi\n",
      "Disallow: /*/pobocky\n",
      "Disallow: /*/pro-firmy\n",
      "Disallow: /*/volna-mista\n",
      "Disallow: /*/autodiscover.xml\n",
      "\n",
      "Allow: /geek/*/clanek\n",
      "Disallow: /*/*/clanek\n",
      "\n",
      "Allow: /\n",
      "\n",
      "Sitemap: https://www.czc.cz/sitemap.xml\n",
      "Sitemap: https://www.czc.cz/sitemap-producer-params.xml\n",
      "Sitemap: https://www.czc.cz/sitemap-params.xml\n",
      "\n"
     ]
    }
   ],
   "source": []
  },
  {
   "cell_type": "code",
   "execution_count": null,
   "metadata": {},
   "outputs": [],
   "source": []
  }
 ],
 "metadata": {
  "kernelspec": {
   "display_name": "Python 3",
   "language": "python",
   "name": "python3"
  },
  "language_info": {
   "codemirror_mode": {
    "name": "ipython",
    "version": 3
   },
   "file_extension": ".py",
   "mimetype": "text/x-python",
   "name": "python",
   "nbconvert_exporter": "python",
   "pygments_lexer": "ipython3",
   "version": "3.7.5"
  }
 },
 "nbformat": 4,
 "nbformat_minor": 2
}
